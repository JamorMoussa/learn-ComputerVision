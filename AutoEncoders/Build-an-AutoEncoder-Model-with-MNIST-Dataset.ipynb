{
 "cells": [
  {
   "cell_type": "markdown",
   "id": "13f290e0-0adb-4c07-973e-04b0eab5748d",
   "metadata": {},
   "source": [
    "# Build an AutoEncoder Model With MNIST Datatset"
   ]
  },
  {
   "cell_type": "code",
   "execution_count": 1,
   "id": "643b3685-6c2c-41e0-8223-0c31cdb51f97",
   "metadata": {},
   "outputs": [
    {
     "name": "stderr",
     "output_type": "stream",
     "text": [
      "/home/moussa/.local/lib/python3.11/site-packages/matplotlib/projections/__init__.py:63: UserWarning: Unable to import Axes3D. This may be due to multiple versions of Matplotlib being installed (e.g. as a system package and as a pip package). As a result, the 3D projection is not available.\n",
      "  warnings.warn(\"Unable to import Axes3D. This may be due to multiple versions of \"\n"
     ]
    }
   ],
   "source": [
    "# import necessary libraries\n",
    "\n",
    "import torch\n",
    "import torch.nn as nn\n",
    "import torch.optim as optim\n",
    "from torch.utils.data import Dataset, DataLoader, random_split\n",
    "\n",
    "import torchvision\n",
    "import torchvision.datasets as datasets\n",
    "\n",
    "import matplotlib.pyplot as plt\n",
    "import numpy as np\n"
   ]
  },
  {
   "cell_type": "markdown",
   "id": "884e446d-db60-4c58-be65-5c6ec686f73b",
   "metadata": {},
   "source": [
    "## Prepare MNIST Dataset"
   ]
  },
  {
   "cell_type": "markdown",
   "id": "0edc6921-9dcf-496b-b95e-1d30161746f4",
   "metadata": {},
   "source": [
    "### Load MNSIT Dataset"
   ]
  },
  {
   "cell_type": "code",
   "execution_count": 2,
   "id": "7a7eec02-93ae-4605-968e-3db23a1aaeca",
   "metadata": {},
   "outputs": [],
   "source": [
    "class FlattenTensor(nn.Module):\n",
    "    def forward(self, tensor: torch.Tensor) -> torch.Tensor:\n",
    "        return tensor.view(-1)\n",
    "\n",
    "    def __repr__(self) -> str:\n",
    "        return f\"{self.__class__.__name__}()\""
   ]
  },
  {
   "cell_type": "code",
   "execution_count": 3,
   "id": "ee6a4452-d04d-4b8f-868d-72be3f91435d",
   "metadata": {},
   "outputs": [],
   "source": [
    "mnist = datasets.MNIST('../files/', download=False, \n",
    "                      transform= torchvision.transforms.Compose([\n",
    "                          torchvision.transforms.ToTensor(),\n",
    "                          FlattenTensor()\n",
    "                      ])\n",
    "        )"
   ]
  },
  {
   "cell_type": "code",
   "execution_count": 4,
   "id": "096d343b-697b-4856-b6de-deed1263c196",
   "metadata": {},
   "outputs": [],
   "source": [
    "mnist_base  = datasets.MNIST('../files/', download=False)"
   ]
  },
  {
   "cell_type": "code",
   "execution_count": 5,
   "id": "04f615a3-5dd1-4c4a-8944-d2655b4595ac",
   "metadata": {},
   "outputs": [],
   "source": [
    "img, _ = mnist_base[0]"
   ]
  },
  {
   "cell_type": "code",
   "execution_count": 6,
   "id": "e00a830b-60c7-4895-b266-7a85ba22b465",
   "metadata": {},
   "outputs": [
    {
     "data": {
      "text/plain": [
       "<matplotlib.image.AxesImage at 0x7fc3d27cabd0>"
      ]
     },
     "execution_count": 6,
     "metadata": {},
     "output_type": "execute_result"
    },
    {
     "data": {
      "image/png": "[encoded data removed]",
      "text/plain": [
       "<Figure size 640x480 with 1 Axes>"
      ]
     },
     "metadata": {},
     "output_type": "display_data"
    }
   ],
   "source": [
    "plt.imshow(img, cmap=\"gray\")"
   ]
  },
  {
   "cell_type": "markdown",
   "id": "fac63373-bda1-4079-85cc-30e45563a514",
   "metadata": {},
   "source": [
    "### Split Dataset"
   ]
  },
  {
   "cell_type": "code",
   "execution_count": 21,
   "id": "f33d109e-2fb3-41f4-9c9c-334a6964a446",
   "metadata": {},
   "outputs": [],
   "source": [
    "train_data, test_data = random_split(mnist, [50000, 10000])"
   ]
  },
  {
   "cell_type": "code",
   "execution_count": 22,
   "id": "8dcaa827-3c68-4bd8-bd54-255d3e12a767",
   "metadata": {},
   "outputs": [
    {
     "name": "stdout",
     "output_type": "stream",
     "text": [
      "train data size: 50000\n"
     ]
    }
   ],
   "source": [
    "print(\"train data size:\", len(train_data))"
   ]
  },
  {
   "cell_type": "code",
   "execution_count": 23,
   "id": "36ead46b-b2e4-424c-8f9a-712bad30f075",
   "metadata": {},
   "outputs": [
    {
     "name": "stdout",
     "output_type": "stream",
     "text": [
      "test data size:  10000\n"
     ]
    }
   ],
   "source": [
    "print(\"test data size: \", len(test_data))"
   ]
  },
  {
   "cell_type": "markdown",
   "id": "236e6dfe-a6cb-4d84-b46a-631cdd1b5b5b",
   "metadata": {},
   "source": [
    "### Define DataLoader"
   ]
  },
  {
   "cell_type": "code",
   "execution_count": 140,
   "id": "cd9a4e66-f659-4967-abaf-f27ebffcd29f",
   "metadata": {},
   "outputs": [],
   "source": [
    "batch_size = 10000"
   ]
  },
  {
   "cell_type": "code",
   "execution_count": 141,
   "id": "118f1bf4-eea5-4652-8834-7094b5818580",
   "metadata": {},
   "outputs": [],
   "source": [
    "train_loader = DataLoader(train_data, batch_size=batch_size, shuffle=True)"
   ]
  },
  {
   "cell_type": "code",
   "execution_count": 142,
   "id": "844d500f-04da-4a72-8866-d3b6fcab2a1b",
   "metadata": {},
   "outputs": [],
   "source": [
    "test_loader = DataLoader(test_data, batch_size=10000, shuffle=True)"
   ]
  },
  {
   "cell_type": "markdown",
   "id": "0c59b41a-97be-493b-a980-d3d3c780a383",
   "metadata": {},
   "source": [
    "## Build The AutoEncoder Model"
   ]
  },
  {
   "cell_type": "code",
   "execution_count": 9,
   "id": "313dc51f-10fb-4bc2-ab60-b5d9c5ae623c",
   "metadata": {},
   "outputs": [],
   "source": [
    "class AutoEncoder(nn.Module):\n",
    "\n",
    "    def __init__(self, ) -> None:\n",
    "        super(AutoEncoder, self).__init__()\n",
    "\n",
    "        self.encoder = nn.Sequential(\n",
    "            nn.Linear(28*28, 128),\n",
    "            nn.ReLU(),\n",
    "            nn.Linear(128, 64),\n",
    "            nn.ReLU(),\n",
    "            nn.Linear(64, 32),\n",
    "            nn.ReLU(),\n",
    "            nn.Linear(32, 16), \n",
    "            nn.ReLU(),\n",
    "            nn.Linear(16, 8)\n",
    "        )\n",
    "\n",
    "        self.decoder = nn.Sequential(\n",
    "            nn.Linear(8, 16),\n",
    "            nn.ReLU(),\n",
    "            nn.Linear(16, 32),\n",
    "            nn.ReLU(),\n",
    "            nn.Linear(32, 64),\n",
    "            nn.ReLU(),\n",
    "            nn.Linear(64, 128), \n",
    "            nn.ReLU(),\n",
    "            nn.Linear(128, 28*28) \n",
    "        )\n",
    "\n",
    "    def forward(self, input: torch.Tensor) -> torch.Tensor:\n",
    "        out = self.encoder(input)\n",
    "        return self.decoder(out)"
   ]
  },
  {
   "cell_type": "code",
   "execution_count": 502,
   "id": "48e2993a-f2a5-4e2d-a623-ed5fea2ffa5d",
   "metadata": {},
   "outputs": [],
   "source": [
    "class AutoencoderCNN(nn.Module):\n",
    "    def __init__(self):\n",
    "        super().__init__()        \n",
    "        # N, 1, 28, 28\n",
    "        self.encoder = nn.Sequential(\n",
    "            nn.Conv2d(1, 16, 3, stride=2, padding=1), # -> N, 16, 14, 14\n",
    "            nn.ReLU(),\n",
    "            nn.Conv2d(16, 32, 3, stride=2, padding=1), # -> N, 32, 7, 7\n",
    "            nn.ReLU(),\n",
    "            nn.Conv2d(32, 64, 7) # -> N, 64, 1, 1\n",
    "        )\n",
    "        \n",
    "        # N , 64, 1, 1\n",
    "        self.decoder = nn.Sequential(\n",
    "            nn.ConvTranspose2d(64, 32, 7), # -> N, 32, 7, 7\n",
    "            nn.ReLU(),\n",
    "            nn.ConvTranspose2d(32, 16, 3, stride=2, padding=1, output_padding=1), # N, 16, 14, 14 (N,16,13,13 without output_padding)\n",
    "            nn.ReLU(),\n",
    "            nn.ConvTranspose2d(16, 1, 3, stride=2, padding=1, output_padding=1), # N, 1, 28, 28  (N,1,27,27)\n",
    "        )\n",
    "\n",
    "    def forward(self, x):\n",
    "        x = x.view(-1, 28, 28)\n",
    "        encoded = self.encoder(x)\n",
    "        decoded = self.decoder(encoded)\n",
    "        return decoded"
   ]
  },
  {
   "cell_type": "code",
   "execution_count": 503,
   "id": "924d3548-c426-4c18-b52b-750230e90af6",
   "metadata": {},
   "outputs": [],
   "source": [
    "model = AutoencoderCNN()"
   ]
  },
  {
   "cell_type": "code",
   "execution_count": 505,
   "id": "56812278-616f-4855-ad62-3da0079de832",
   "metadata": {
    "scrolled": true
   },
   "outputs": [],
   "source": [
    "# model.encoder(mnist[0][0].view(-1, 28, 28))"
   ]
  },
  {
   "cell_type": "code",
   "execution_count": 506,
   "id": "515e0d48-cdb7-4a72-9df0-bf008967310f",
   "metadata": {},
   "outputs": [
    {
     "data": {
      "text/plain": [
       "torch.Size([784])"
      ]
     },
     "execution_count": 506,
     "metadata": {},
     "output_type": "execute_result"
    }
   ],
   "source": [
    "mnist[0][0].view(-1, 28, 28).flatten().shape"
   ]
  },
  {
   "cell_type": "code",
   "execution_count": 507,
   "id": "5d19e2c0-5640-4553-9caa-e9dfa009296a",
   "metadata": {},
   "outputs": [],
   "source": [
    "res = model(mnist[0][0])"
   ]
  },
  {
   "cell_type": "code",
   "execution_count": 508,
   "id": "bfefe427-f1ec-43cc-8411-41c329248e7b",
   "metadata": {},
   "outputs": [
    {
     "data": {
      "text/plain": [
       "torch.Size([1, 28, 28])"
      ]
     },
     "execution_count": 508,
     "metadata": {},
     "output_type": "execute_result"
    }
   ],
   "source": [
    "res.shape"
   ]
  },
  {
   "cell_type": "code",
   "execution_count": 509,
   "id": "f3f286e9-e5fb-4942-9585-3b29c67fc27b",
   "metadata": {},
   "outputs": [
    {
     "data": {
      "text/plain": [
       "<matplotlib.image.AxesImage at 0x7f1a4d0ba450>"
      ]
     },
     "execution_count": 509,
     "metadata": {},
     "output_type": "execute_result"
    },
    {
     "data": {
      "image/png": "[encoded data removed]",
      "text/plain": [
       "<Figure size 640x480 with 1 Axes>"
      ]
     },
     "metadata": {},
     "output_type": "display_data"
    }
   ],
   "source": [
    "plt.imshow(res.detach().numpy().reshape(28, 28), cmap=\"gray\")"
   ]
  },
  {
   "cell_type": "code",
   "execution_count": 510,
   "id": "e161594d-9523-4f4c-8c48-e803e38ba5f3",
   "metadata": {},
   "outputs": [
    {
     "data": {
      "text/plain": [
       "AutoencoderCNN(\n",
       "  (encoder): Sequential(\n",
       "    (0): Conv2d(1, 16, kernel_size=(3, 3), stride=(2, 2), padding=(1, 1))\n",
       "    (1): ReLU()\n",
       "    (2): Conv2d(16, 32, kernel_size=(3, 3), stride=(2, 2), padding=(1, 1))\n",
       "    (3): ReLU()\n",
       "    (4): Conv2d(32, 64, kernel_size=(7, 7), stride=(1, 1))\n",
       "  )\n",
       "  (decoder): Sequential(\n",
       "    (0): ConvTranspose2d(64, 32, kernel_size=(7, 7), stride=(1, 1))\n",
       "    (1): ReLU()\n",
       "    (2): ConvTranspose2d(32, 16, kernel_size=(3, 3), stride=(2, 2), padding=(1, 1), output_padding=(1, 1))\n",
       "    (3): ReLU()\n",
       "    (4): ConvTranspose2d(16, 1, kernel_size=(3, 3), stride=(2, 2), padding=(1, 1), output_padding=(1, 1))\n",
       "  )\n",
       ")"
      ]
     },
     "execution_count": 510,
     "metadata": {},
     "output_type": "execute_result"
    }
   ],
   "source": [
    "model"
   ]
  },
  {
   "cell_type": "code",
   "execution_count": 511,
   "id": "6c984221-a6cf-4ee4-83a7-61fc9201cbbf",
   "metadata": {},
   "outputs": [],
   "source": [
    "criterion = nn.MSELoss()"
   ]
  },
  {
   "cell_type": "code",
   "execution_count": 512,
   "id": "011d11d4-1ed0-47e5-94b0-f003313f0927",
   "metadata": {},
   "outputs": [],
   "source": [
    "opt = optim.SGD(model.parameters(), lr=1e-3)"
   ]
  },
  {
   "cell_type": "markdown",
   "id": "7c86c972-72a5-40ea-899c-cfe95e0ca785",
   "metadata": {},
   "source": [
    "## Train Loop"
   ]
  },
  {
   "cell_type": "code",
   "execution_count": null,
   "id": "3f7b4bfc-331d-405c-9869-b1ec69f67c8a",
   "metadata": {},
   "outputs": [
    {
     "name": "stdout",
     "output_type": "stream",
     "text": [
      "Iteration: 1 | loss: 0.12621521949768066\n"
     ]
    },
    {
     "data": {
      "image/png": "[encoded data removed]",
      "text/plain": [
       "<Figure size 640x480 with 1 Axes>"
      ]
     },
     "metadata": {},
     "output_type": "display_data"
    }
   ],
   "source": [
    "t = 0\n",
    "for input, _ in train_data:\n",
    "\n",
    "    opt.zero_grad()\n",
    "\n",
    "    label_pred = model(input)\n",
    "\n",
    "    loss = criterion(label_pred.flatten(), input)\n",
    "    \n",
    "    loss.backward()\n",
    "    \n",
    "    opt.step()\n",
    "    \n",
    "    t+=1\n",
    "\n",
    "    if t%5000==0 or t==1:\n",
    "        print(f\"Iteration: {t} | loss: {loss.item()}\")\n",
    "        res = label_pred.detach().numpy()\n",
    "        plt.imshow(input.detach().numpy().reshape((28, 28)))\n",
    "        plt.show()\n",
    "        plt.imshow(res.squeeze(0))\n",
    "        plt.show()"
   ]
  },
  {
   "cell_type": "code",
   "execution_count": null,
   "id": "acf04dd9-f7db-4bf7-9b4d-6a1b97c0966c",
   "metadata": {},
   "outputs": [],
   "source": []
  },
  {
   "cell_type": "code",
   "execution_count": null,
   "id": "d5ff87ac-f60f-4434-afa7-ae951886a971",
   "metadata": {},
   "outputs": [],
   "source": []
  },
  {
   "cell_type": "markdown",
   "id": "976b5169-0f23-4fd1-ae08-2ccf5134e102",
   "metadata": {},
   "source": [
    "# Load Model"
   ]
  },
  {
   "cell_type": "code",
   "execution_count": 7,
   "id": "28373150-3d68-49f3-a537-e0cb7c1aeb8c",
   "metadata": {},
   "outputs": [],
   "source": [
    "# torch.save(model2, \"./models/autoencoder_v3.pth\")"
   ]
  },
  {
   "cell_type": "code",
   "execution_count": 10,
   "id": "ba8d7a95-f961-4264-aa75-9f3c59ff802e",
   "metadata": {},
   "outputs": [],
   "source": [
    "model = torch.load(\"./models/autoencoder_v1.pth\")"
   ]
  },
  {
   "cell_type": "code",
   "execution_count": 32,
   "id": "6d28aaab-9ec0-4e6c-9b88-e255a4a51cdf",
   "metadata": {},
   "outputs": [],
   "source": [
    "res = model.decoder(torch.randn(8))"
   ]
  },
  {
   "cell_type": "code",
   "execution_count": 33,
   "id": "7e73c897-4f4d-4bc3-ab09-b99add2b1d8e",
   "metadata": {},
   "outputs": [
    {
     "data": {
      "text/plain": [
       "<matplotlib.image.AxesImage at 0x7fc3cc689710>"
      ]
     },
     "execution_count": 33,
     "metadata": {},
     "output_type": "execute_result"
    },
    {
     "data": {
      "image/png": "[encoded data removed]",
      "text/plain": [
       "<Figure size 640x480 with 1 Axes>"
      ]
     },
     "metadata": {},
     "output_type": "display_data"
    }
   ],
   "source": [
    "plt.imshow(res.detach().numpy().reshape(28, 28))"
   ]
  },
  {
   "cell_type": "code",
   "execution_count": null,
   "id": "53e4711e-2724-40fa-b666-7b3e91e53288",
   "metadata": {},
   "outputs": [],
   "source": []
  },
  {
   "cell_type": "code",
   "execution_count": null,
   "id": "fc87a44d-4e0d-4269-83cf-e12163ae9c88",
   "metadata": {},
   "outputs": [],
   "source": []
  },
  {
   "cell_type": "code",
   "execution_count": null,
   "id": "326b3226-7144-4f31-a48a-87e29669b9c5",
   "metadata": {},
   "outputs": [],
   "source": []
  },
  {
   "cell_type": "code",
   "execution_count": null,
   "id": "cfff2ffa-3985-421e-af11-23aed461cd0e",
   "metadata": {},
   "outputs": [],
   "source": []
  }
 ],
 "metadata": {
  "kernelspec": {
   "display_name": "Python 3 (ipykernel)",
   "language": "python",
   "name": "python3"
  },
  "language_info": {
   "codemirror_mode": {
    "name": "ipython",
    "version": 3
   },
   "file_extension": ".py",
   "mimetype": "text/x-python",
   "name": "python",
   "nbconvert_exporter": "python",
   "pygments_lexer": "ipython3",
   "version": "3.11.6"
  }
 },
 "nbformat": 4,
 "nbformat_minor": 5
}
