{
 "cells": [
  {
   "cell_type": "markdown",
   "id": "77bfe921-98c4-413e-9d7f-2ed3a0ecf59a",
   "metadata": {},
   "source": [
    "This Notebook Created By [Moussa JAMOR](https://github.com/JamorMoussa/docs)\n",
    "\n",
    "Github Repository: [https://github.com/JamorMoussa/learn-ComputerVision/blob/main/Classification_MNIST_With_Neural_Networks.ipynb](https://github.com/JamorMoussa/learn-ComputerVision/blob/main/Classification_MNIST_With_Neural_Networks.ipynb)"
   ]
  },
  {
   "cell_type": "markdown",
   "id": "ef619b3d-78d8-4ef6-97b7-e2e6b9c94337",
   "metadata": {},
   "source": [
    "# Classification MNIST using a MLP (Multiple Layer Perceptron)"
   ]
  },
  {
   "cell_type": "markdown",
   "id": "996e37d7-8766-417c-9ff5-5049d51f450c",
   "metadata": {},
   "source": [
    "This notebook is classification MNSIT dataset, which stands for ***Modified National Institute of Standards and Technology***. By, building a sample **Multiple Layer Perceptron**, also called a feed-forward neural network. "
   ]
  },
  {
   "cell_type": "markdown",
   "id": "b07a643a-b508-4798-abff-a6b95b93c7a2",
   "metadata": {},
   "source": [
    "## Import Necessary Libraries"
   ]
  },
  {
   "cell_type": "code",
   "execution_count": 87,
   "id": "be569502-0152-4f97-b5c8-bcf2be47f2a7",
   "metadata": {},
   "outputs": [],
   "source": [
    "# import libraries: \n",
    "\n",
    "import torch\n",
    "import torch.nn as nn\n",
    "import torch.optim as optim\n",
    "from torch.utils.data import DataLoader, TensorDataset, random_split\n",
    "\n",
    "from torchvision import datasets\n",
    "import torchvision\n",
    "\n",
    "import matplotlib.pyplot as plt\n",
    "import numpy as np\n",
    "\n",
    "from sklearn.metrics import classification_report, accuracy_score"
   ]
  },
  {
   "cell_type": "markdown",
   "id": "1ff123b6-86b2-4330-8e6b-ef50c5ff8cb6",
   "metadata": {},
   "source": [
    "## MNIST Dataset"
   ]
  },
  {
   "cell_type": "markdown",
   "id": "aef001df-e2f2-4e82-b0aa-08d72d0d68fa",
   "metadata": {},
   "source": [
    "The **MNIST** dataset of handwritten digits has a training set of 60,000 examples, and a test set of 10,000 examples. It's consist of 28px by 28px gray scall handwritten digits image (0-9).\n",
    "\n",
    "In this notebook, we'll split the dataset into train and test dataset. The train contains 50000 images, and the test dataset contains 10000 images."
   ]
  },
  {
   "cell_type": "markdown",
   "id": "62092f81-5f8e-483f-8d7b-1829c7f86240",
   "metadata": {},
   "source": [
    "## Load - Visualize - Prepare MNIST Dataset: "
   ]
  },
  {
   "cell_type": "code",
   "execution_count": 4,
   "id": "ce679c9a-0922-4dcb-9f73-782c29927a9d",
   "metadata": {},
   "outputs": [],
   "source": [
    "class FlattenTensor:\n",
    "    def __call__(self, tensor: torch.Tensor) -> torch.Tensor:\n",
    "        return tensor.view(-1)\n",
    "\n",
    "    def __repr__(self) -> str:\n",
    "        return f\"{self.__class__.__name__}()\""
   ]
  },
  {
   "cell_type": "code",
   "execution_count": 5,
   "id": "3f6012d1-808f-470f-91de-ab2a556a62ac",
   "metadata": {},
   "outputs": [],
   "source": [
    "mnist = datasets.MNIST('./files/', download=False, \n",
    "                      transform= torchvision.transforms.Compose([\n",
    "                          torchvision.transforms.ToTensor(),\n",
    "                          FlattenTensor()\n",
    "                      ])\n",
    "                      )"
   ]
  },
  {
   "cell_type": "code",
   "execution_count": 6,
   "id": "aab04f83-f3a4-4d71-b41d-2c9da7a0ecac",
   "metadata": {},
   "outputs": [],
   "source": [
    "img, _  = datasets.MNIST('./files/', download=False)[0]"
   ]
  },
  {
   "cell_type": "code",
   "execution_count": 7,
   "id": "dad6cc0d-a29a-4e6a-ac00-87732d906129",
   "metadata": {},
   "outputs": [
    {
     "data": {
      "text/plain": [
       "<matplotlib.image.AxesImage at 0x7f21e0274790>"
      ]
     },
     "execution_count": 7,
     "metadata": {},
     "output_type": "execute_result"
    },
    {
     "data": {
      "image/png": "[encoded data removed]",
      "text/plain": [
       "<Figure size 640x480 with 1 Axes>"
      ]
     },
     "metadata": {},
     "output_type": "display_data"
    }
   ],
   "source": [
    "plt.imshow(img, cmap=\"gray\")"
   ]
  },
  {
   "cell_type": "markdown",
   "id": "476c7a00-ef45-4d59-be89-a62482474c08",
   "metadata": {},
   "source": [
    "## MNIST Description"
   ]
  },
  {
   "cell_type": "code",
   "execution_count": 8,
   "id": "cef63605-421b-4601-a9fa-aebaa8a62e81",
   "metadata": {},
   "outputs": [
    {
     "data": {
      "text/plain": [
       "Dataset MNIST\n",
       "    Number of datapoints: 60000\n",
       "    Root location: ./files/\n",
       "    Split: Train\n",
       "    StandardTransform\n",
       "Transform: Compose(\n",
       "               ToTensor()\n",
       "               FlattenTensor()\n",
       "           )"
      ]
     },
     "execution_count": 8,
     "metadata": {},
     "output_type": "execute_result"
    }
   ],
   "source": [
    "mnist"
   ]
  },
  {
   "cell_type": "code",
   "execution_count": 9,
   "id": "77e01535-3b13-48c9-a98b-406638f307ea",
   "metadata": {},
   "outputs": [
    {
     "data": {
      "text/plain": [
       "torch.Size([60000, 28, 28])"
      ]
     },
     "execution_count": 9,
     "metadata": {},
     "output_type": "execute_result"
    }
   ],
   "source": [
    "# The data shape 60000 image and each image is 28x28 pixels.\n",
    "mnist.data.shape"
   ]
  },
  {
   "cell_type": "code",
   "execution_count": 10,
   "id": "589c4f23-a653-4754-b251-e1f286e4d58b",
   "metadata": {},
   "outputs": [
    {
     "data": {
      "text/plain": [
       "['0 - zero',\n",
       " '1 - one',\n",
       " '2 - two',\n",
       " '3 - three',\n",
       " '4 - four',\n",
       " '5 - five',\n",
       " '6 - six',\n",
       " '7 - seven',\n",
       " '8 - eight',\n",
       " '9 - nine']"
      ]
     },
     "execution_count": 10,
     "metadata": {},
     "output_type": "execute_result"
    }
   ],
   "source": [
    "# number of classes\n",
    "mnist.classes"
   ]
  },
  {
   "cell_type": "markdown",
   "id": "cdbeef97-ee87-4bad-a9f4-49fa88b1bdf6",
   "metadata": {},
   "source": [
    "## Prepare The Train, Test Dataset"
   ]
  },
  {
   "cell_type": "code",
   "execution_count": 11,
   "id": "d640492c-1078-4f98-883b-5ba6eee1a355",
   "metadata": {},
   "outputs": [],
   "source": [
    "train_data, test_data = random_split(mnist, [50000, 10000])"
   ]
  },
  {
   "cell_type": "code",
   "execution_count": 12,
   "id": "6ad55ecd-ca3f-41d9-ac1b-b7f0e7afd747",
   "metadata": {},
   "outputs": [
    {
     "name": "stdout",
     "output_type": "stream",
     "text": [
      "train data size: 50000\n"
     ]
    }
   ],
   "source": [
    "print(\"train data size:\", len(train_data))"
   ]
  },
  {
   "cell_type": "code",
   "execution_count": 13,
   "id": "dcf6e3a5-a8c0-43a4-85a0-61b56a17562f",
   "metadata": {},
   "outputs": [
    {
     "name": "stdout",
     "output_type": "stream",
     "text": [
      "test data size:  10000\n"
     ]
    }
   ],
   "source": [
    "print(\"test data size: \", len(test_data))"
   ]
  },
  {
   "cell_type": "markdown",
   "id": "4ec415f5-b676-4147-8af5-c282c3e44ec0",
   "metadata": {},
   "source": [
    "## Define Train, Test DataLoader"
   ]
  },
  {
   "cell_type": "code",
   "execution_count": 23,
   "id": "1c890f5a-e5fc-4173-8c02-e2bb2756a241",
   "metadata": {},
   "outputs": [],
   "source": [
    "batch_size = 5000"
   ]
  },
  {
   "cell_type": "code",
   "execution_count": 24,
   "id": "c2eea871-e9fa-4097-ab8d-1ec7a2234b10",
   "metadata": {},
   "outputs": [],
   "source": [
    "train_loader = DataLoader(train_data, batch_size=batch_size, shuffle=True)"
   ]
  },
  {
   "cell_type": "code",
   "execution_count": 72,
   "id": "a8f42ce7-5582-43f3-bb54-04cd9c87420b",
   "metadata": {},
   "outputs": [],
   "source": [
    "test_loader = DataLoader(test_data, batch_size=10000, shuffle=True)"
   ]
  },
  {
   "cell_type": "markdown",
   "id": "8056cbb4-95a6-4bed-9092-5d2f07ce5353",
   "metadata": {},
   "source": [
    " "
   ]
  },
  {
   "cell_type": "markdown",
   "id": "fa4e71b9-4e76-4ce7-b8d1-1aa7571c8a78",
   "metadata": {},
   "source": [
    "## Build The MLP Model"
   ]
  },
  {
   "cell_type": "markdown",
   "id": "23d680ec-bd33-4a7e-8daa-63fddbdf4240",
   "metadata": {},
   "source": [
    "### Define MLPClassifier Class"
   ]
  },
  {
   "cell_type": "code",
   "execution_count": 111,
   "id": "af9b14c0-1097-4bd2-a832-fc74831104ff",
   "metadata": {},
   "outputs": [],
   "source": [
    "class MLPClassifier(nn.Module):\n",
    "\n",
    "    def __init__(self, ) -> None:\n",
    "        super(MLPClassifier, self).__init__()\n",
    "        \n",
    "        self.classifier = nn.Sequential(\n",
    "            nn.Linear(28*28, 64),\n",
    "            nn.ReLU(),\n",
    "            nn.Linear(64, 10)\n",
    "        )\n",
    "\n",
    "    def forward(self, input: torch.Tensor) -> torch.Tensor:\n",
    "        return self.classifier(input)"
   ]
  },
  {
   "cell_type": "code",
   "execution_count": 112,
   "id": "1d628617-b84d-4897-bebb-00418122dbcd",
   "metadata": {},
   "outputs": [],
   "source": [
    "model = MLPClassifier()"
   ]
  },
  {
   "cell_type": "markdown",
   "id": "58ec8c63-cd29-4425-8f6e-cf86dd7ba38a",
   "metadata": {},
   "source": [
    "### Define a Loss Function, Optimizer"
   ]
  },
  {
   "cell_type": "code",
   "execution_count": 113,
   "id": "66371dc6-7bbf-40c3-9cab-5c6d888089eb",
   "metadata": {},
   "outputs": [],
   "source": [
    "criterion = nn.CrossEntropyLoss()"
   ]
  },
  {
   "cell_type": "code",
   "execution_count": 114,
   "id": "32c93f01-aa2f-4ff8-9dd3-dfb5e16b3499",
   "metadata": {},
   "outputs": [],
   "source": [
    "opt = optim.Adam(model.parameters(), lr=0.001)"
   ]
  },
  {
   "cell_type": "markdown",
   "id": "75568746-3729-48c7-a414-cda533e60136",
   "metadata": {},
   "source": [
    "## Train Loop: "
   ]
  },
  {
   "cell_type": "code",
   "execution_count": 115,
   "id": "47c1900a-ef0b-4cf8-b2ce-1c4c204aafdb",
   "metadata": {},
   "outputs": [
    {
     "name": "stdout",
     "output_type": "stream",
     "text": [
      "Epoch: 1| Loss: 2.194558620452881| Test Acuracy: 13.5%\n",
      "Epoch: 500| Loss: 0.09631658345460892| Test Acuracy: 70.6%\n",
      "Epoch: 1000| Loss: 1.5823265314102173| Test Acuracy: 83.9%\n",
      "Epoch: 1500| Loss: 0.0670592412352562| Test Acuracy: 84.6%\n",
      "Epoch: 2000| Loss: 0.1766364723443985| Test Acuracy: 86.9%\n",
      "Epoch: 2500| Loss: 0.03408091887831688| Test Acuracy: 87.6%\n",
      "Epoch: 3000| Loss: 0.002914112526923418| Test Acuracy: 88.8%\n",
      "Epoch: 3500| Loss: 0.05221961438655853| Test Acuracy: 88.2%\n",
      "Epoch: 4000| Loss: 0.11807502806186676| Test Acuracy: 89.5%\n",
      "Epoch: 4500| Loss: 0.05490758270025253| Test Acuracy: 89.6%\n",
      "Epoch: 5000| Loss: 2.711374521255493| Test Acuracy: 89.8%\n",
      "Epoch: 5500| Loss: 0.5990583896636963| Test Acuracy: 90.5%\n",
      "Epoch: 6000| Loss: 0.0004829194222111255| Test Acuracy: 90.7%\n",
      "Epoch: 6500| Loss: 0.0018070096848532557| Test Acuracy: 91.2%\n",
      "Epoch: 7000| Loss: 0.005613634362816811| Test Acuracy: 89.2%\n",
      "Epoch: 7500| Loss: 1.4554567337036133| Test Acuracy: 91.1%\n",
      "Epoch: 8000| Loss: 0.3357464075088501| Test Acuracy: 91.1%\n",
      "Epoch: 8500| Loss: 0.007391013205051422| Test Acuracy: 90.3%\n",
      "Epoch: 9000| Loss: 0.7968123555183411| Test Acuracy: 92.2%\n",
      "Epoch: 9500| Loss: 0.0005460678366944194| Test Acuracy: 92.0%\n",
      "Epoch: 10000| Loss: 0.1079457625746727| Test Acuracy: 92.2%\n",
      "Epoch: 10500| Loss: 0.1931711733341217| Test Acuracy: 91.6%\n",
      "Epoch: 11000| Loss: 0.6059674620628357| Test Acuracy: 92.0%\n",
      "Epoch: 11500| Loss: 0.005179913714528084| Test Acuracy: 91.5%\n",
      "Epoch: 12000| Loss: 1.1847294569015503| Test Acuracy: 92.8%\n",
      "Epoch: 12500| Loss: 0.00019691436318680644| Test Acuracy: 92.3%\n",
      "Epoch: 13000| Loss: 0.016897985711693764| Test Acuracy: 92.7%\n",
      "Epoch: 13500| Loss: 0.005400829017162323| Test Acuracy: 92.5%\n",
      "Epoch: 14000| Loss: 0.03003503568470478| Test Acuracy: 92.9%\n",
      "Epoch: 14500| Loss: 0.008593248203396797| Test Acuracy: 93.0%\n",
      "Epoch: 15000| Loss: 0.009376771748065948| Test Acuracy: 93.5%\n",
      "Epoch: 15500| Loss: 0.0009584600338712335| Test Acuracy: 92.9%\n",
      "Epoch: 16000| Loss: 0.21754461526870728| Test Acuracy: 93.5%\n",
      "Epoch: 16500| Loss: 0.0038713286630809307| Test Acuracy: 94.0%\n",
      "Epoch: 17000| Loss: 0.0010967198759317398| Test Acuracy: 92.8%\n",
      "Epoch: 17500| Loss: 0.000364713923772797| Test Acuracy: 92.9%\n",
      "Epoch: 18000| Loss: 0.002990300301462412| Test Acuracy: 92.5%\n",
      "Epoch: 18500| Loss: 1.0616905689239502| Test Acuracy: 93.8%\n",
      "Epoch: 19000| Loss: 0.013594663701951504| Test Acuracy: 93.4%\n",
      "Epoch: 19500| Loss: 1.6093124941107817e-05| Test Acuracy: 93.6%\n",
      "Epoch: 20000| Loss: 0.02819712646305561| Test Acuracy: 93.7%\n",
      "Epoch: 20500| Loss: 0.012370407581329346| Test Acuracy: 94.1%\n",
      "Epoch: 21000| Loss: 0.019902529194951057| Test Acuracy: 94.7%\n",
      "Epoch: 21500| Loss: 7.867782187531702e-06| Test Acuracy: 94.0%\n",
      "Epoch: 22000| Loss: 0.03327742964029312| Test Acuracy: 93.3%\n",
      "Epoch: 22500| Loss: 0.00028761065914295614| Test Acuracy: 94.3%\n",
      "Epoch: 23000| Loss: 0.02513839118182659| Test Acuracy: 92.9%\n",
      "Epoch: 23500| Loss: 0.001116010476835072| Test Acuracy: 94.5%\n",
      "Epoch: 24000| Loss: 0.008613457903265953| Test Acuracy: 93.9%\n",
      "Epoch: 24500| Loss: 0.1313820481300354| Test Acuracy: 94.8%\n",
      "Epoch: 25000| Loss: 0.005738095846027136| Test Acuracy: 94.3%\n",
      "Epoch: 25500| Loss: 0.0029054353944957256| Test Acuracy: 95.0%\n",
      "Epoch: 26000| Loss: 0.0029507214203476906| Test Acuracy: 94.2%\n",
      "Epoch: 26500| Loss: 0.00022957073815632612| Test Acuracy: 94.3%\n",
      "Epoch: 27000| Loss: 0.8263515830039978| Test Acuracy: 94.3%\n",
      "Epoch: 27500| Loss: 0.003189360024407506| Test Acuracy: 94.0%\n",
      "Epoch: 28000| Loss: 0.0008274468709714711| Test Acuracy: 94.6%\n",
      "Epoch: 28500| Loss: 0.4687251150608063| Test Acuracy: 94.6%\n",
      "Epoch: 29000| Loss: 0.31481438875198364| Test Acuracy: 94.7%\n",
      "Epoch: 29500| Loss: 0.006959838792681694| Test Acuracy: 95.0%\n",
      "Epoch: 30000| Loss: 0.7477185726165771| Test Acuracy: 95.1%\n",
      "Epoch: 30500| Loss: 0.005377589259296656| Test Acuracy: 95.4%\n",
      "Epoch: 31000| Loss: 0.0009201106731779873| Test Acuracy: 95.2%\n",
      "Epoch: 31500| Loss: 0.7090724110603333| Test Acuracy: 94.3%\n",
      "Epoch: 32000| Loss: 4.124556289752945e-05| Test Acuracy: 94.9%\n",
      "Epoch: 32500| Loss: 0.033708471804857254| Test Acuracy: 95.3%\n",
      "Epoch: 33000| Loss: 0.0| Test Acuracy: 95.1%\n",
      "Epoch: 33500| Loss: 1.1920922133867862e-06| Test Acuracy: 94.8%\n",
      "Epoch: 34000| Loss: 0.353845477104187| Test Acuracy: 95.5%\n",
      "Epoch: 34500| Loss: 1.5264313220977783| Test Acuracy: 95.3%\n",
      "Epoch: 35000| Loss: 0.00203116936609149| Test Acuracy: 95.5%\n",
      "Epoch: 35500| Loss: 0.014601515606045723| Test Acuracy: 95.4%\n",
      "Epoch: 36000| Loss: 0.02381168119609356| Test Acuracy: 95.4%\n",
      "Epoch: 36500| Loss: 0.0008755664457567036| Test Acuracy: 95.2%\n",
      "Epoch: 37000| Loss: 2.47952248173533e-05| Test Acuracy: 94.8%\n",
      "Epoch: 37500| Loss: 0.0027473345398902893| Test Acuracy: 95.2%\n",
      "Epoch: 38000| Loss: 6.83045873302035e-05| Test Acuracy: 95.1%\n",
      "Epoch: 38500| Loss: 0.002314509591087699| Test Acuracy: 95.4%\n",
      "Epoch: 39000| Loss: 0.05502853915095329| Test Acuracy: 94.9%\n",
      "Epoch: 39500| Loss: 0.001022650278173387| Test Acuracy: 95.0%\n",
      "Epoch: 40000| Loss: 0.037332866340875626| Test Acuracy: 94.0%\n",
      "Epoch: 40500| Loss: 0.001046467456035316| Test Acuracy: 95.2%\n",
      "Epoch: 41000| Loss: 0.00019929806876461953| Test Acuracy: 95.5%\n",
      "Epoch: 41500| Loss: 0.003812665119767189| Test Acuracy: 93.9%\n",
      "Epoch: 42000| Loss: 4.768360213347478e-06| Test Acuracy: 95.1%\n",
      "Epoch: 42500| Loss: 0.00039772229501977563| Test Acuracy: 95.3%\n",
      "Epoch: 43000| Loss: 2.7568347454071045| Test Acuracy: 95.3%\n",
      "Epoch: 43500| Loss: 1.7404405298293568e-05| Test Acuracy: 94.5%\n",
      "Epoch: 44000| Loss: 0.020020434632897377| Test Acuracy: 94.8%\n",
      "Epoch: 44500| Loss: 0.013587960973381996| Test Acuracy: 93.9%\n",
      "Epoch: 45000| Loss: 0.0035565949510782957| Test Acuracy: 94.9%\n",
      "Epoch: 45500| Loss: 0.00017486473370809108| Test Acuracy: 95.4%\n",
      "Epoch: 46000| Loss: 0.07375960797071457| Test Acuracy: 95.4%\n",
      "Epoch: 46500| Loss: 0.035747841000556946| Test Acuracy: 95.7%\n",
      "Epoch: 47000| Loss: 0.003150739474222064| Test Acuracy: 95.8%\n",
      "Epoch: 47500| Loss: 2.706014311115723e-05| Test Acuracy: 95.5%\n",
      "Epoch: 48000| Loss: 0.00169955228921026| Test Acuracy: 95.8%\n",
      "Epoch: 48500| Loss: 0.0019881022162735462| Test Acuracy: 95.1%\n",
      "Epoch: 49000| Loss: 1.6689286894688848e-06| Test Acuracy: 95.7%\n",
      "Epoch: 49500| Loss: 0.012837505899369717| Test Acuracy: 94.9%\n",
      "Epoch: 50000| Loss: 0.0016559947980567813| Test Acuracy: 95.0%\n"
     ]
    }
   ],
   "source": [
    "t = 0\n",
    "for input, label in train_data:\n",
    "\n",
    "    opt.zero_grad()\n",
    "\n",
    "    label_pred = model(input)\n",
    "\n",
    "    loss = criterion(label_pred, torch.tensor(label))\n",
    "    \n",
    "    loss.backward()\n",
    "    \n",
    "    opt.step()\n",
    "    \n",
    "    t+=1\n",
    "\n",
    "    if t%500==0 or t==1:\n",
    "        with torch.inference_mode():\n",
    "            batch = next(iter(test_loader))\n",
    "            y_true = batch[1]\n",
    "            y_pred = torch.argmax(model(batch[0]), axis=1)\n",
    "            score = accuracy_score(y_pred, y_true)\n",
    "            print(f\"Epoch: {t}| Loss: {loss.item()}| Test Acuracy: {score*100:.3}%\")"
   ]
  },
  {
   "cell_type": "markdown",
   "id": "77eb9fc1-6592-4db8-a816-4b461517bd09",
   "metadata": {},
   "source": [
    "## Model Evaluation \n"
   ]
  },
  {
   "cell_type": "code",
   "execution_count": 117,
   "id": "ebb625cc-7410-4ad2-b7e0-d26186c12ee1",
   "metadata": {},
   "outputs": [],
   "source": [
    "from sklearn.metrics import classification_report, accuracy_score"
   ]
  },
  {
   "cell_type": "code",
   "execution_count": 124,
   "id": "9c302a5d-a00f-46a5-ad74-023023958831",
   "metadata": {},
   "outputs": [
    {
     "name": "stdout",
     "output_type": "stream",
     "text": [
      "              precision    recall  f1-score   support\n",
      "\n",
      "           0       0.98      0.98      0.98      4940\n",
      "           1       0.98      0.97      0.98      5595\n",
      "           2       0.95      0.96      0.96      4915\n",
      "           3       0.98      0.89      0.93      5658\n",
      "           4       0.95      0.96      0.96      4874\n",
      "           5       0.94      0.94      0.94      4503\n",
      "           6       0.97      0.99      0.98      4798\n",
      "           7       0.98      0.96      0.97      5383\n",
      "           8       0.88      0.98      0.93      4388\n",
      "           9       0.94      0.95      0.94      4946\n",
      "\n",
      "    accuracy                           0.96     50000\n",
      "   macro avg       0.96      0.96      0.96     50000\n",
      "weighted avg       0.96      0.96      0.96     50000\n",
      "\n"
     ]
    }
   ],
   "source": [
    "# Train\n",
    "with torch.inference_mode():\n",
    "    train , label = next(iter(DataLoader(train_data, batch_size=50000, shuffle=True)))\n",
    "    label_pred = torch.argmax(model(train), axis=1)\n",
    "    print(classification_report(label_pred, label))"
   ]
  },
  {
   "cell_type": "code",
   "execution_count": 125,
   "id": "ba23f48b-229d-4488-8642-ea9bcf056ce9",
   "metadata": {},
   "outputs": [
    {
     "name": "stdout",
     "output_type": "stream",
     "text": [
      "              precision    recall  f1-score   support\n",
      "\n",
      "           0       0.98      0.97      0.97       997\n",
      "           1       0.98      0.98      0.98      1197\n",
      "           2       0.96      0.95      0.95      1034\n",
      "           3       0.97      0.88      0.92      1110\n",
      "           4       0.95      0.95      0.95       947\n",
      "           5       0.94      0.94      0.94       908\n",
      "           6       0.96      0.98      0.97      1004\n",
      "           7       0.97      0.95      0.96      1027\n",
      "           8       0.86      0.97      0.91       810\n",
      "           9       0.92      0.94      0.93       966\n",
      "\n",
      "    accuracy                           0.95     10000\n",
      "   macro avg       0.95      0.95      0.95     10000\n",
      "weighted avg       0.95      0.95      0.95     10000\n",
      "\n"
     ]
    }
   ],
   "source": [
    "# Train\n",
    "with torch.inference_mode():\n",
    "    test , label = next(iter(DataLoader(test_data, batch_size=10000, shuffle=True)))\n",
    "    label_pred = torch.argmax(model(test), axis=1)\n",
    "    print(classification_report(label_pred, label))"
   ]
  },
  {
   "cell_type": "markdown",
   "id": "9acc77ae-318e-4420-ae7d-cce3d54c1f40",
   "metadata": {},
   "source": [
    " "
   ]
  },
  {
   "cell_type": "markdown",
   "id": "c7eed37a-47a8-4071-a676-c97556bd55b1",
   "metadata": {},
   "source": [
    "## References"
   ]
  },
  {
   "cell_type": "markdown",
   "id": "d799ada6-4c43-4434-a83d-8a6cd04a733a",
   "metadata": {},
   "source": [
    "- Solving MNIST using PyTorch on [https://www.kaggle.com/code/geekysaint/solving-mnist-using-pytorch](https://www.kaggle.com/code/geekysaint/solving-mnist-using-pytorch)"
   ]
  }
 ],
 "metadata": {
  "kernelspec": {
   "display_name": "Python 3 (ipykernel)",
   "language": "python",
   "name": "python3"
  },
  "language_info": {
   "codemirror_mode": {
    "name": "ipython",
    "version": 3
   },
   "file_extension": ".py",
   "mimetype": "text/x-python",
   "name": "python",
   "nbconvert_exporter": "python",
   "pygments_lexer": "ipython3",
   "version": "3.11.6"
  }
 },
 "nbformat": 4,
 "nbformat_minor": 5
}
